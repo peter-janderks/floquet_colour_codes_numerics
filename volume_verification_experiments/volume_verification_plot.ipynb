{
 "cells": [
  {
   "cell_type": "code",
   "execution_count": 7,
   "metadata": {},
   "outputs": [],
   "source": [
    "import sinter\n",
    "from typing import List \n",
    "import matplotlib.pyplot as plt\n",
    "import rsmf \n",
    "\n",
    "formatter : plt.Formatter = rsmf.setup(r\"\\documentclass[a4paper,11pt,noarxiv]{quantumarticle}\")"
   ]
  },
  {
   "cell_type": "code",
   "execution_count": 8,
   "metadata": {},
   "outputs": [],
   "source": [
    "stats_memory : List[sinter.TaskStats] = sinter.stats_from_csv_files('./out/verification.csv')"
   ]
  },
  {
   "cell_type": "code",
   "execution_count": 35,
   "metadata": {},
   "outputs": [],
   "source": [
    "fig = formatter.figure(wide=True, aspect_ratio=1)\n",
    "ax = fig.subplots(2,2, sharex='col', sharey='row')\n",
    "\n",
    "sinter.plot_error_rate(ax=ax[0][0], stats=stats_memory, group_func=lambda stat: f\"{stat.json_metadata['code_name']}\",\n",
    "                       x_func=lambda stat: stat.json_metadata['d_x'], filter_func=lambda stat: stat.json_metadata['h'] == 8 and stat.json_metadata['noise_model'] == 'phenomenological', line_fits=('linear', 'linear'))\n",
    "sinter.plot_error_rate(ax=ax[0][1], stats=stats_memory, x_func=lambda stat: stat.json_metadata['h'], filter_func=lambda stat: stat.json_metadata['d_x'] == 8 and stat.json_metadata['noise_model'] == 'phenomenological', group_func=lambda stat: f\"{stat.json_metadata['code_name']}\",line_fits=('linear', 'linear'))\n",
    "\n",
    "sinter.plot_error_rate(ax=ax[1][0], stats=stats_memory, group_func=lambda stat: f\"{stat.json_metadata['code_name']}\",\n",
    "                       x_func=lambda stat: stat.json_metadata['d_x'], filter_func=lambda stat: stat.json_metadata['h'] == 8 and stat.json_metadata['noise_model'] == 'circuit_level_noise', line_fits=('linear', 'linear'))\n",
    "sinter.plot_error_rate(ax=ax[1][1], stats=stats_memory, x_func=lambda stat: stat.json_metadata['h'], filter_func=lambda stat: stat.json_metadata['d_x'] == 8 and stat.json_metadata['noise_model'] == 'circuit_level_noise', group_func=lambda stat: f\"{stat.json_metadata['code_name']}\",line_fits=('linear', 'linear'))\n",
    "\n",
    "ax[0][0].set_xlim(0,25)\n",
    "ax[0][1].set_xlim(0,25)\n",
    "ax[0][0].set_ylim(0,10e-6)\n",
    "ax[0][0].set_ylabel('logical error rate')\n",
    "ax[1][0].set_ylabel('logical error rate')\n",
    "ax[1][0].set_xlim(0,25)\n",
    "ax[1][1].set_xlim(0,25)\n",
    "ax[1][0].set_ylim(0,10e-4)\n",
    "handles, labels = ax[0][0].get_legend_handles_labels()\n",
    "ax[0][0].legend(handles=[handles[0], handles[1]], labels=['$X^1Z^1$', '$X^1Y^1Z^1$'], loc='upper left')\n",
    "ax[1][0].set_xlabel('$d_Z$')\n",
    "ax[1][1].set_xlabel('$h_X$')\n",
    "ax[0][0].set_title('Phenomenological noise, \\n X memory experiment')\n",
    "ax[0][1].set_title('Phenomenological noise, \\n X stability experiment')\n",
    "ax[1][0].set_title('Standard depolarizing noise, \\n X memory experiment')\n",
    "ax[1][1].set_title('Standard depolarizing noise, \\n X stability experiment')\n",
    "ax[1][0].ticklabel_format(axis='y', style='sci', scilimits=(0,0))\n",
    "x_s = [stat for stat in stats_memory if stat.json_metadata['code_name']]\n",
    "fig.tight_layout()\n",
    "plt.savefig(\"volume_verification.pdf\")\n",
    "plt.close()"
   ]
  }
 ],
 "metadata": {
  "kernelspec": {
   "display_name": "fcc_env",
   "language": "python",
   "name": "python3"
  },
  "language_info": {
   "codemirror_mode": {
    "name": "ipython",
    "version": 3
   },
   "file_extension": ".py",
   "mimetype": "text/x-python",
   "name": "python",
   "nbconvert_exporter": "python",
   "pygments_lexer": "ipython3",
   "version": "3.11.5"
  }
 },
 "nbformat": 4,
 "nbformat_minor": 2
}
